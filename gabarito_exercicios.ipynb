{
 "cells": [
  {
   "cell_type": "markdown",
   "source": "<div>\n    <p style=\"float: right;\"><img src=\"https://media.swipepages.com/2021/2/sirius-logo-principal-tag-1-300.png\" height=\"80px\"border=\"1px\"></p>\n    \n</div>\n<h1> Gabarito dos exercícios </h1>\n\n",
   "metadata": {
    "tags": [],
    "cell_id": "00000-7645482a-804b-45f6-a157-07d027cba7d4",
    "deepnote_cell_type": "markdown"
   }
  },
  {
   "cell_type": "code",
   "metadata": {
    "tags": [],
    "deepnote_to_be_reexecuted": false,
    "source_hash": "b6d0a4ae",
    "execution_start": 1632524012089,
    "execution_millis": 24,
    "cell_id": "00004-736f8d36-4b76-431e-be1b-f5043c7dc61b",
    "deepnote_cell_type": "code"
   },
   "source": "#Exercicio 1\nano_nascimento = 1994\naltura_cm = 170.50 \nassunto = \"Fellowship de Ciência de Dados da Sirius Education\"\nverdadeiro = True\nprint(type(ano_nascimento), type(altura_cm), type(assunto), type(verdadeiro))",
   "execution_count": null,
   "outputs": [
    {
     "name": "stdout",
     "text": "<class 'int'> <class 'float'> <class 'str'> <class 'bool'>\n",
     "output_type": "stream"
    }
   ]
  },
  {
   "cell_type": "code",
   "metadata": {
    "tags": [],
    "cell_id": "00005-e2096771-0570-4220-b6f9-a430b8695b8a",
    "deepnote_to_be_reexecuted": false,
    "source_hash": "7886679f",
    "execution_start": 1632530357914,
    "execution_millis": 4,
    "deepnote_cell_type": "code"
   },
   "source": "# Exercicio 2\ntitulo = \"Alice no País das Maravilhas\"\nintro = \"\"\"\nAs Aventuras de Alice no País das Maravilhas, frequentemente abreviado para Alice no País das Maravilhas (Alice in Wonderland) é a obra infantil mais conhecida de Charles Lutwidge Dodgson, publicada a 4 de julho de 1865 sob o pseudônimo de Lewis Carroll. É uma das obras mais célebres do gênero literário nonsense. \n\"\"\"\nano = 1865\nautor = \"Charles Lutwidge Dodgson \"\n\nprint(type(titulo), type(intro), type(ano), type(autor))",
   "execution_count": null,
   "outputs": [
    {
     "name": "stdout",
     "text": "<class 'str'> <class 'str'> <class 'int'> <class 'str'>\n",
     "output_type": "stream"
    }
   ]
  },
  {
   "cell_type": "code",
   "metadata": {
    "tags": [],
    "cell_id": "00003-a266c0b6-90b9-4500-8277-7c8f137e07fe",
    "deepnote_to_be_reexecuted": false,
    "source_hash": "83de7877",
    "execution_start": 1632530392333,
    "execution_millis": 8,
    "deepnote_cell_type": "code"
   },
   "source": "# Exercicio 3\nidade = 25\n\nprint(idade)\nprint(type(idade))",
   "execution_count": null,
   "outputs": [
    {
     "name": "stdout",
     "text": "25\n<class 'int'>\n",
     "output_type": "stream"
    }
   ]
  },
  {
   "cell_type": "code",
   "metadata": {
    "tags": [],
    "cell_id": "00004-42793098-c9b3-4452-9495-ffdf9be121e8",
    "deepnote_to_be_reexecuted": false,
    "source_hash": "868068cf",
    "execution_start": 1632530469708,
    "execution_millis": 84,
    "deepnote_cell_type": "code"
   },
   "source": "# Exercicio 4\npi = 3.14\n\nprint(pi)\nprint(type(pi))",
   "execution_count": null,
   "outputs": [
    {
     "name": "stdout",
     "text": "3.14\n<class 'float'>\n",
     "output_type": "stream"
    }
   ]
  },
  {
   "cell_type": "code",
   "metadata": {
    "tags": [],
    "cell_id": "00005-b4576dcb-3a8c-4d7f-9cab-588d1f740903",
    "deepnote_to_be_reexecuted": false,
    "source_hash": "e67e48f4",
    "execution_start": 1632530646464,
    "execution_millis": 14,
    "deepnote_cell_type": "code"
   },
   "source": "# Exercicio 5\n\nv1 = 1 - 15\nv2 = 35656222554887711 * 2\nv3 = 3 + 5\nv4 = 2.5 + 0.5\nv5 = 1 + 0.5\nv6 = 2 * 2.5\nv7 = 2.0 / 5\n\nprint(v1)\nprint(type(v1))\n\nprint(v2)\nprint(type(v2))\n\nprint(v3)\nprint(type(v3))\n\nprint(v4)\nprint(type(v4))\n\nprint(v5)\nprint(type(v5))\n\nprint(v6)\nprint(type(v6))\n\nprint(v7)\nprint(type(v7))\n\nprint(v8)\nprint(type(v8))",
   "execution_count": null,
   "outputs": [
    {
     "name": "stdout",
     "text": "-14\n<class 'int'>\n71312445109775422\n<class 'int'>\n8\n<class 'int'>\n3.0\n<class 'float'>\n1.5\n<class 'float'>\n5.0\n<class 'float'>\n0.4\n<class 'float'>\n0.4\n<class 'float'>\n",
     "output_type": "stream"
    }
   ]
  },
  {
   "cell_type": "code",
   "metadata": {
    "tags": [],
    "cell_id": "00006-ee2d4935-39a7-4b7b-bca5-f9137ef148fc",
    "deepnote_to_be_reexecuted": false,
    "source_hash": "1880099d",
    "execution_start": 1632530723018,
    "execution_millis": 5,
    "deepnote_cell_type": "code"
   },
   "source": "# Exercicio 6\n\nv1 = 3 < 5\nv2 = 1 == 1\nv3 = 4 > 5\nv4 = 'abelha' == 'abelha'\nv5 = 'abelha' != 'coelho'\n\nprint(v1)\nprint(type(v1))\n\nprint(v2)\nprint(type(v2))\n\nprint(v3)\nprint(type(v3))\n\nprint(v4)\nprint(type(v4))\n\nprint(v5)\nprint(type(v5))",
   "execution_count": null,
   "outputs": [
    {
     "name": "stdout",
     "text": "True\n<class 'bool'>\nTrue\n<class 'bool'>\nFalse\n<class 'bool'>\nTrue\n<class 'bool'>\nTrue\n<class 'bool'>\n",
     "output_type": "stream"
    }
   ]
  },
  {
   "cell_type": "code",
   "metadata": {
    "tags": [],
    "cell_id": "00007-a2762cb2-40ce-44fc-ac52-6aa2ff1100b3",
    "deepnote_to_be_reexecuted": false,
    "source_hash": "e5579c64",
    "execution_start": 1632530765923,
    "execution_millis": 7989,
    "deepnote_cell_type": "code"
   },
   "source": "# Exercicio 7\n\ndia_da_semana = input()\n\nprint(dia_da_semana)\nprint(type(dia_da_semana))\n",
   "execution_count": null,
   "outputs": [
    {
     "name": "stdout",
     "text": "segunda-feira\n<class 'str'>\n",
     "output_type": "stream"
    }
   ]
  },
  {
   "cell_type": "code",
   "metadata": {
    "tags": [],
    "cell_id": "00008-ccab4a87-a819-4d75-9a6f-133ee21ed140",
    "deepnote_to_be_reexecuted": false,
    "source_hash": "652126",
    "execution_start": 1632530844669,
    "execution_millis": 3393,
    "deepnote_cell_type": "code"
   },
   "source": "# Exercicio 8\n\nidade = input()\n\nprint(idade)\nprint(type(idade))\n\nidade_2 = int(idade)\n\nprint(idade_2)\nprint(type(idade_2))",
   "execution_count": null,
   "outputs": [
    {
     "name": "stdout",
     "text": "25\n<class 'str'>\n25\n<class 'int'>\n",
     "output_type": "stream"
    }
   ]
  },
  {
   "cell_type": "code",
   "metadata": {
    "tags": [],
    "cell_id": "00009-c73e885e-e9d5-4a08-aa2e-b8b5331054a3",
    "deepnote_to_be_reexecuted": false,
    "source_hash": "4e94b3fb",
    "execution_start": 1632530891046,
    "execution_millis": 17,
    "deepnote_cell_type": "code"
   },
   "source": "# Exercicio 9\n\nnot_cient_1 = 2e10\nnot_cient_2 = 3.2e3\n\nprint(not_cient_1)\nprint(type(not_cient_1))\n\nprint(not_cient_2)\nprint(type(not_cient_2))",
   "execution_count": null,
   "outputs": [
    {
     "name": "stdout",
     "text": "20000000000.0\n<class 'float'>\n3200.0\n<class 'float'>\n",
     "output_type": "stream"
    }
   ]
  },
  {
   "cell_type": "code",
   "metadata": {
    "tags": [],
    "cell_id": "00010-eca3b093-012a-4fff-a1a4-4d5d1082ebdb",
    "deepnote_to_be_reexecuted": false,
    "source_hash": "552a887d",
    "execution_start": 1632531143051,
    "execution_millis": 14,
    "deepnote_cell_type": "code"
   },
   "source": "# Exercicio 10\n\nganhos = 5 * 99.91\ndespesas = 3 * 110.10\n\nprint(ganhos)\nprint(despesas)\n\nlucro = ganhos - despesas\n\n# Se você fizer isso em uma calculadora é bem possivel que o resultado seja 499.55 e 330.30.\n# Para entender melhor acesse os links disponiveis no notebook de exercicios",
   "execution_count": null,
   "outputs": [
    {
     "name": "stdout",
     "text": "499.54999999999995\n330.29999999999995\n",
     "output_type": "stream"
    }
   ]
  },
  {
   "cell_type": "code",
   "source": "# Exercício 11\na = 10\nb = 20\nsoma = a + b\nprint(soma)",
   "metadata": {
    "tags": [],
    "cell_id": "00011-4806f6ad-4dc0-4892-9443-fd462353786f",
    "deepnote_to_be_reexecuted": false,
    "source_hash": "5d38afdc",
    "execution_start": 1634161928590,
    "execution_millis": 5,
    "deepnote_cell_type": "code"
   },
   "outputs": [
    {
     "name": "stdout",
     "text": "30\n",
     "output_type": "stream"
    }
   ],
   "execution_count": null
  },
  {
   "cell_type": "code",
   "source": "# Exercício 12\nvar1 = 10\nvar2 = 20\nprint(var1+var2)",
   "metadata": {
    "tags": [],
    "cell_id": "00012-9f03de4f-c670-4f9d-9d21-060013e2b122",
    "deepnote_to_be_reexecuted": false,
    "source_hash": "c1a094f8",
    "execution_start": 1634161966682,
    "execution_millis": 5,
    "deepnote_cell_type": "code"
   },
   "outputs": [
    {
     "name": "stdout",
     "text": "30\n",
     "output_type": "stream"
    }
   ],
   "execution_count": null
  },
  {
   "cell_type": "code",
   "source": "# Exercício 13\nentrada1 = float(input())\nentrada2 = float(input())\nprint(entrada1+entrada2)",
   "metadata": {
    "tags": [],
    "cell_id": "00013-34a7f891-9ff6-4886-a2b4-6b1ac27994c6",
    "deepnote_to_be_reexecuted": false,
    "source_hash": "55b7d919",
    "execution_start": 1634162049610,
    "execution_millis": 3341,
    "deepnote_cell_type": "code"
   },
   "outputs": [
    {
     "name": "stdout",
     "text": "2.0\n",
     "output_type": "stream"
    }
   ],
   "execution_count": null
  },
  {
   "cell_type": "code",
   "source": "# Exercício 14\nsalario_atual=float(input('Insira o seu Salário atual: '))\naumento_salarial=float(input('Insira o percentual de Aumento desejado: '))\n\nnovo_salario=salario_atual+(salario_atual*(aumento_salarial/100))\nprint('O Salário Reajustado é R$ %.2f'%novo_salario)",
   "metadata": {
    "tags": [],
    "cell_id": "00014-9b497de6-6a92-448b-8a7d-04db51ca0c6f",
    "deepnote_to_be_reexecuted": false,
    "source_hash": "d1a513f0",
    "execution_start": 1634162100100,
    "execution_millis": 4949,
    "deepnote_cell_type": "code"
   },
   "outputs": [
    {
     "name": "stdout",
     "text": "O Salário Reajustado é R$ 2.00\n",
     "output_type": "stream"
    }
   ],
   "execution_count": null
  },
  {
   "cell_type": "markdown",
   "source": "<a style='text-decoration:none;line-height:16px;display:flex;color:#5B5B62;padding:10px;justify-content:end;' href='https://deepnote.com?utm_source=created-in-deepnote-cell&projectId=0fd69832-cf00-4dd5-8436-e30c0fc0360f' target=\"_blank\">\n<img alt='Created in deepnote.com' style='display:inline;max-height:16px;margin:0px;margin-right:7.5px;' src='data:image/svg+xml;base64,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' > </img>\nCreated in <span style='font-weight:600;margin-left:4px;'>Deepnote</span></a>",
   "metadata": {
    "tags": [],
    "created_in_deepnote_cell": true,
    "deepnote_cell_type": "markdown"
   }
  }
 ],
 "nbformat": 4,
 "nbformat_minor": 2,
 "metadata": {
  "orig_nbformat": 2,
  "deepnote": {
   "is_reactive": false
  },
  "deepnote_notebook_id": "b1d92296-4158-4fb8-882d-2a5ae70c7d9e",
  "deepnote_execution_queue": []
 }
}