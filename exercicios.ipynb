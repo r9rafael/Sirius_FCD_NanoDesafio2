{
 "cells": [
  {
   "cell_type": "markdown",
   "source": "<div>\n    <p style=\"float: right;\"><img src=\"https://media.swipepages.com/2021/2/sirius-logo-principal-tag-1-300.png\" height=\"80px\"border=\"1px\"></p>\n    \n</div>\n<h1>Nano Desafio 2 </h1>\n<h2> Exercícios básicos em Python </h2>\n\nAluno: Rafael Rocha\n\nData: 13/10/21\n",
   "metadata": {
    "tags": [],
    "cell_id": "00000-fb15d4b7-b791-4cd5-9ccd-26dae8f59ae2",
    "deepnote_cell_type": "markdown"
   }
  },
  {
   "cell_type": "markdown",
   "source": "<h1>\nO básico do Python para Ciência de dados\n</h1>\n<b>Artigo original e completo disponível em inglês: </b> <a href=\"https://towardsdatascience.com/python-basics-for-data-science-6a6c987f2755\">towardsdatascience.com</a><br/><br/>\n\n<img src=\"https://miro.medium.com/max/1400/1*7EUX9QIjq2x1JyFKcjhXsA.png\"/>\n\n<h1 id=\"7464\">\nTipos de dados em Python\n</h1>\n<p id=\"1c30\">\nEm Python, nos temos muitos tipos de dados. O mais comuns são float (floating point), int (integer), str (string), bool (Boolean), list, and dict (dicionário).\n</p>\n<ul>\n<li id=\"2c2e\">\nfloat - usado para números Reais.\n</li>\n<li id=\"a366\">\nint - usado para números inteiros.\n</li>\n<li id=\"1a7f\">\nstr - usado para textos. Nós podemos usar com aspas simples \n<code>\n'value'\n</code>\n, aspas duplas\n<code>\n\"value\"\n</code>\n, ou aspas triplas\n<code>\n\"\"\"value\"\"\"\n</code>\n. As aspas triplas pode ser usada em múltiplas linhas, a quebra de linha será incluída no valor da variável. Também são comumente usadas para escrever a documentação de uma função.\n</li>\n<li id=\"9187\">\nbool - usada para valores verdadeiro ou falso. Muito usado para operações em que se quer filtrar um dado.\n</li>\n<li id=\"56a0\">\nlist - usada para uma coleção de valores.\n</li>\n<li id=\"0107\">\ndict - usada para armazenar pares de chave-valor.\n</li>\n</ul>\n<p id=\"57ee\">\nNós podemos usar a função \n<code>\ntype(variable_name)\n</code>\npara verificar o tipo específico de determinada variável. Isso é importante pois a depender do tipo da variável as funções podem se comportar de maneiras diferentes bem como terem métodos específicos para trabalhar com determinados tipos.\n</p>\n<p id=\"d207\">\nVamos ver alguns exemplos criando valores de ponto flutuante (float), inteiros (int), textos (str) e boleanos (bool) em python.\n</p>",
   "metadata": {
    "tags": [],
    "cell_id": "00000-0db8a925-0173-4fd0-8dfd-d84a6ba006a3",
    "deepnote_cell_type": "markdown"
   }
  },
  {
   "cell_type": "markdown",
   "source": "## Exercício 1\nPara as 4 variáveis abaixo, qual o tipo de cada uma delas? <br>\nano_nascimento = 1994 <br>\naltura_cm = 170.50 <br>\nassunto = \"Fellowship de Ciência de Dados da Sirius Education\" <br>\nverdadeiro = True <br>",
   "metadata": {
    "tags": [],
    "cell_id": "00002-016edc3a-2daa-479a-809c-0440792b592b",
    "deepnote_cell_type": "markdown"
   }
  },
  {
   "cell_type": "code",
   "source": "ano_nascimento=1994\naltura_cm=170.50\nassunto=\"Fellowship de Ciência de Dados da Sirius Education\"\nverdadeiro=True\n\ntipo_ano=type(ano_nascimento)\nprint('Ano nascimento é do tipo:',tipo_ano)\n\ntipo_altura=type(altura_cm)\nprint('Altura é do tipo:',tipo_altura)\n\ntipo_assunto=type(assunto)\nprint('Assunto é do tipo:',tipo_assunto)\n\ntipo_verdadeiro=type(verdadeiro)\nprint('Verdadeiro é do tipo:',tipo_verdadeiro)\n\n\n",
   "metadata": {
    "tags": [],
    "cell_id": "00003-a5d52c8a-1ac3-4f85-b3bf-547c579019cf",
    "deepnote_to_be_reexecuted": false,
    "source_hash": "3d6ba6f6",
    "execution_start": 1634170851376,
    "execution_millis": 13,
    "deepnote_cell_type": "code"
   },
   "outputs": [
    {
     "name": "stdout",
     "text": "Ano nascimento é do tipo: <class 'int'>\nAltura é do tipo: <class 'float'>\nAssunto é do tipo: <class 'str'>\nVerdadeiro é do tipo: <class 'bool'>\n",
     "output_type": "stream"
    }
   ],
   "execution_count": null
  },
  {
   "cell_type": "markdown",
   "source": "## Exercício 2\nPara as 4 variáveis abaixo, qual o tipo de cada uma delas? <br>\ntitulo = \"Alice no País das Maravilhas\" <br>\nintro = \"\"\" <br>\nAs Aventuras de Alice no País das Maravilhas, frequentemente abreviado para Alice no País das Maravilhas (Alice in Wonderland) é a obra infantil mais conhecida de Charles Lutwidge Dodgson, publicada a 4 de julho de 1865 sob o pseudônimo de Lewis Carroll. É uma das obras mais célebres do gênero literário nonsense. \n<br>\"\"\" <br>\nano = 1865 <br>\nautor = \"Charles Lutwidge Dodgson \" <br>",
   "metadata": {
    "tags": [],
    "cell_id": "00003-c607f18b-5e53-46e3-b709-80bb91052786",
    "deepnote_cell_type": "markdown"
   }
  },
  {
   "cell_type": "code",
   "source": "titulo = \"Alice no País das Maravilhas\"\nintro = \"\"\"\nAs Aventuras de Alice no País das Maravilhas, frequentemente abreviado para Alice no País das Maravilhas (Alice in Wonderland) é a obra infantil mais conhecida de Charles Lutwidge Dodgson, publicada a 4 de julho de 1865 sob o pseudônimo de Lewis Carroll. É uma das obras mais célebres do gênero literário nonsense.\n\"\"\"\nano = 1865\nautor = \"Charles Lutwidge Dodgson \"\n\ntipo_titulo=type(titulo)\ntipo_intro=type(intro)\ntipo_ano=type(ano)\ntipo_autor=type(autor)\n\nprint('Titulo é do tipo:',tipo_titulo)\nprint('intro é do tipo:',tipo_intro)\nprint('ano é do tipo:',tipo_ano)\nprint('autor é do tipo:',tipo_autor)\n",
   "metadata": {
    "tags": [],
    "cell_id": "00005-0c072cf8-5e2f-4787-9e2b-929ce7f9348f",
    "deepnote_to_be_reexecuted": false,
    "source_hash": "7fcb1289",
    "execution_start": 1634170851377,
    "execution_millis": 14,
    "deepnote_cell_type": "code"
   },
   "outputs": [
    {
     "name": "stdout",
     "text": "Titulo é do tipo: <class 'str'>\nintro é do tipo: <class 'str'>\nano é do tipo: <class 'int'>\nautor é do tipo: <class 'str'>\n",
     "output_type": "stream"
    }
   ],
   "execution_count": null
  },
  {
   "cell_type": "markdown",
   "source": "## Exercicio 3\nCrie uma variável com o nome `idade` e atribua sua idade nela.\n\nApresente a sua idade da tela com o comando `print`.\n\nApresente tambem com o comando `print` o tipo dessa variável.\n",
   "metadata": {
    "tags": [],
    "cell_id": "00003-897a9dde-900f-4d08-add0-304f9e2a2ba1",
    "deepnote_cell_type": "markdown"
   }
  },
  {
   "cell_type": "code",
   "source": "idade=46\nprint('A minha idade é:',idade)\n\ntipo_idade=type(idade)\nprint('A variável idade é do tipo',tipo_idade)",
   "metadata": {
    "tags": [],
    "cell_id": "00007-1de2bcd4-34fb-428d-80d3-5457ba829555",
    "deepnote_to_be_reexecuted": false,
    "source_hash": "78f05887",
    "execution_start": 1634170997905,
    "execution_millis": 11,
    "deepnote_cell_type": "code"
   },
   "outputs": [
    {
     "name": "stdout",
     "text": "A minha idade é: 46\nA variável idade é do tipo <class 'int'>\n",
     "output_type": "stream"
    }
   ],
   "execution_count": null
  },
  {
   "cell_type": "markdown",
   "source": "## Exercicio 4\nCrie uma variável com o nome `pi` e insira o valor de pi (`3.14`).\n\nApresente a sua idade da tela com o comando `print`.\n\nApresente tambem com o comando `print` o tipo dessa variável.",
   "metadata": {
    "tags": [],
    "cell_id": "00003-5a74211e-5fb2-4cfa-81ab-cc23b6279efa",
    "deepnote_cell_type": "markdown"
   }
  },
  {
   "cell_type": "code",
   "source": "pi=3.1\n\nprint('A minha idade é:',idade)\n\ntipo_pi=type(pi)\nprint('A variável pi é do tipo',tipo_pi)",
   "metadata": {
    "tags": [],
    "cell_id": "00009-aa079d7c-950b-4e83-b525-6bd242cebffe",
    "deepnote_to_be_reexecuted": false,
    "source_hash": "7320384f",
    "execution_start": 1634171141119,
    "execution_millis": 15,
    "deepnote_cell_type": "code"
   },
   "outputs": [
    {
     "name": "stdout",
     "text": "A minha idade é: 46\nA variável pi é do tipo <class 'float'>\n",
     "output_type": "stream"
    }
   ],
   "execution_count": null
  },
  {
   "cell_type": "markdown",
   "source": "## Exercicio 5\n\ncrie 7 variáveis, para cada uma atribua a elas as seguintes operações:\n\n* 1 - 15\n* 35656222554887711 * 2\n* 3 + 5\n* 2.5 + 0.5\n* 1 + 0.5\n* 2 * 2.5\n* 2.0 / 5\n\npara cada variável criada, apresente o tipo dela e seu resultado.",
   "metadata": {
    "tags": [],
    "cell_id": "00005-a5a43b51-bb74-47b7-855e-90d895cd7b01",
    "deepnote_cell_type": "markdown"
   }
  },
  {
   "cell_type": "code",
   "source": "var1=(1-15)\nvar2=(35656222554887711 * 2)\nvar3=(3 + 5)\nvar4=(2.5+0.5)\nvar5=(1+0.5)\nvar6=(2*2.5)\nvar7=2.0/5\n\ntipo_var1=type(var1)\ntipo_var2=type(var2)\ntipo_var3=type(var3)\ntipo_var4=type(var4)\ntipo_var5=type(var5)\ntipo_var6=type(var6)\ntipo_var7=type(var7)\n\nprint('a variável 1 é to tipo:',tipo_var1) \nprint('e o seu valor é igual a:',var1)\n\nprint('a variável 2 é to tipo:',tipo_var2) \nprint('e o seu valor é igual a:',var2)\n\nprint('a variável 3 é to tipo:',tipo_var3) \nprint('e o seu valor é igual a:',var3)\n\nprint('a variável 4 é to tipo:',tipo_var4) \nprint('e o seu valor é igual a:',var4)\n\nprint('a variável 5 é to tipo:',tipo_var5) \nprint('e o seu valor é igual a:',var5)\n\nprint('a variável 6 é to tipo:',tipo_var6) \nprint('e o seu valor é igual a:',var6)\n\nprint('a variável 7 é to tipo:',tipo_var7) \nprint('e o seu valor é igual a:',var7)\n",
   "metadata": {
    "tags": [],
    "cell_id": "00011-303b408b-8b0f-4099-89b8-ed33f026fc56",
    "deepnote_to_be_reexecuted": false,
    "source_hash": "345be6f7",
    "execution_start": 1634171615274,
    "execution_millis": 7,
    "deepnote_cell_type": "code"
   },
   "outputs": [
    {
     "name": "stdout",
     "text": "a variável 1 é to tipo: <class 'int'>\ne o seu valor é igual a: -14\na variável 2 é to tipo: <class 'int'>\ne o seu valor é igual a: 71312445109775422\na variável 3 é to tipo: <class 'int'>\ne o seu valor é igual a: 8\na variável 4 é to tipo: <class 'float'>\ne o seu valor é igual a: 3.0\na variável 5 é to tipo: <class 'float'>\ne o seu valor é igual a: 1.5\na variável 6 é to tipo: <class 'float'>\ne o seu valor é igual a: 5.0\na variável 7 é to tipo: <class 'float'>\ne o seu valor é igual a: 0.4\n",
     "output_type": "stream"
    }
   ],
   "execution_count": null
  },
  {
   "cell_type": "markdown",
   "source": "## Exercicio 6\n\nCrie 5 variáveis, para cada variavel atribua a ela as seguintes operações:\n\n* 3 < 5\n* 1 == 1\n* 4 > 5\n* 'abelha' == 'abelha'\n* 'abelha' != 'coelho'\n\n\n\npara cada variável criada, apresente o tipo dela e seu resultado.",
   "metadata": {
    "tags": [],
    "cell_id": "00006-0cc20801-02f3-4b07-99b7-15cc62cf8e91",
    "deepnote_cell_type": "markdown"
   }
  },
  {
   "cell_type": "code",
   "source": "var8=3<5\nvar9=1==1\nvar10=4>5\nvar11='abelha'=='abelha'\nvar12='abelha'!= 'coelho'\n\ntipo_var8=type(var8)\ntipo_var9=type(var9)\ntipo_var10=type(var10)\ntipo_var11=type(var11)\ntipo_var12=type(var12)\n\nprint('o tipo da variável 8 é:',tipo_var8)\nprint('e o seu resultado é:', var8)\n\nprint('o tipo da variável 8 é:',tipo_var9)\nprint('e o seu resultado é:', var9)\n\nprint('o tipo da variável 8 é:',tipo_var10)\nprint('e o seu resultado é:', var10)\n\nprint('o tipo da variável 8 é:',tipo_var11)\nprint('e o seu resultado é:', var11)\n\nprint('o tipo da variável 8 é:',tipo_var12)\nprint('e o seu resultado é:', var12)\n",
   "metadata": {
    "tags": [],
    "cell_id": "00013-5ec62ed1-bcb9-40a7-ba10-7ccbcc355626",
    "deepnote_to_be_reexecuted": false,
    "source_hash": "dbfc1a25",
    "execution_start": 1634172015214,
    "execution_millis": 23,
    "deepnote_cell_type": "code"
   },
   "outputs": [
    {
     "name": "stdout",
     "text": "o tipo da variável 8 é: <class 'bool'>\ne o seu resultado é: True\no tipo da variável 8 é: <class 'bool'>\ne o seu resultado é: True\no tipo da variável 8 é: <class 'bool'>\ne o seu resultado é: False\no tipo da variável 8 é: <class 'bool'>\ne o seu resultado é: True\no tipo da variável 8 é: <class 'bool'>\ne o seu resultado é: True\n",
     "output_type": "stream"
    }
   ],
   "execution_count": null
  },
  {
   "cell_type": "markdown",
   "source": "## Exercicio 7\n\nCrie uma variável chamada `dia_da_semana` e use o comando `input()` para inseri-la pelo teclado. Coloque algum dia da semana.\n\nEm seguida use o comando `print` para mostrar o valor da variável e o tipo dela.",
   "metadata": {
    "tags": [],
    "cell_id": "00006-b92b77dd-e6d7-4741-8f19-1597a9762265",
    "deepnote_cell_type": "markdown"
   }
  },
  {
   "cell_type": "code",
   "source": "dia_da_semana=input('Qual é o dia do semana?')\nprint('O dia da semana é:',dia_da_semana)\n",
   "metadata": {
    "tags": [],
    "cell_id": "00015-3bcfa249-2870-43c8-8025-95d347f82eaf",
    "deepnote_to_be_reexecuted": false,
    "source_hash": "5fc0d373",
    "execution_start": 1634172167995,
    "execution_millis": 4620,
    "deepnote_cell_type": "code"
   },
   "outputs": [
    {
     "name": "stdout",
     "text": "O dia da semana é: 3af\n",
     "output_type": "stream"
    }
   ],
   "execution_count": null
  },
  {
   "cell_type": "markdown",
   "source": "## Exercicio 8\n\nCrie uma variável chamada `idade` e use o comando `input()` para inseri-la pelo teclado. Coloque a sua idade.\n\nEm seguida use o comando `print` para mostrar o valor da variável e o tipo dela.\n\nUse o comando `idade_2 = int(idade)` e em seguida apresente o valor e o tipo da variável `idade_2`.\n\n**lembre-se**: Ao encontrar comandos do python que você não conhece tente usar `help()`.",
   "metadata": {
    "tags": [],
    "cell_id": "00007-f8916e30-1dd1-4e29-bf10-b43869558e4f",
    "deepnote_cell_type": "markdown"
   }
  },
  {
   "cell_type": "code",
   "source": "idade=input('Qual é a sua idade?')\nprint('A idade é:',idade)\n\nidade2=int(idade)\nprint('A idade2 é:',idade2)\ntipo_idade2=type(idade2)\nprint('O tipo da idade2 é:',tipo_idade2)\n",
   "metadata": {
    "tags": [],
    "cell_id": "00017-482bf92e-d601-4ba8-91fc-335b2f50dcda",
    "deepnote_to_be_reexecuted": false,
    "source_hash": "82b71a6a",
    "execution_start": 1634172334190,
    "execution_millis": 4336,
    "deepnote_cell_type": "code"
   },
   "outputs": [
    {
     "name": "stdout",
     "text": "A idade é: 46\nA idade2 é: 46\nO tipo da idade2 é: <class 'int'>\n",
     "output_type": "stream"
    }
   ],
   "execution_count": null
  },
  {
   "cell_type": "markdown",
   "source": "## Exercicio 9\n\nPodemos usar [notação científica](https://pt.wikipedia.org/wiki/Nota%C3%A7%C3%A3o_cient%C3%ADfica) em python tambem!\n\n```python\nnot_cient_1 = 2e10\nnot_cient_2 = 3.2e3\n```\n<br>\nQue numeros sao esses? apresente seus valores e seus tipos.",
   "metadata": {
    "tags": [],
    "cell_id": "00009-64958e7c-f92d-4218-a388-a07a97ac2164",
    "deepnote_cell_type": "markdown"
   }
  },
  {
   "cell_type": "code",
   "source": "not_cient_1 = 2e10\nnot_cient_2 = 3.2e3\n\ntipo_cient1=type(not_cient_1)\ntipo_cient2=type(not_cient_2)\n\nprint('not_cient_1 é do tipo:',tipo_cient1)\nprint('o valor da var not_cient_1 é:',not_cient_1)\n\nprint('not_cient_2 é do tipo:',tipo_cient2)\nprint('o valor da var not_cient_2 é:',not_cient_2)\n",
   "metadata": {
    "tags": [],
    "cell_id": "00019-ed210bcc-cba9-4bde-8fc1-1bd0b4df5dc7",
    "deepnote_to_be_reexecuted": false,
    "source_hash": "ac14dc00",
    "execution_start": 1634172585018,
    "execution_millis": 2,
    "deepnote_cell_type": "code"
   },
   "outputs": [
    {
     "name": "stdout",
     "text": "not_cient_1 é do tipo: <class 'float'>\no valor da var not_cient_1 é: 20000000000.0\nnot_cient_2 é do tipo: <class 'float'>\no valor da var not_cient_2 é: 3200.0\n",
     "output_type": "stream"
    }
   ],
   "execution_count": null
  },
  {
   "cell_type": "markdown",
   "source": "## Exercicio 10\n\nImagine que voce esta cuidando de uma aplicação de controle de gastos de uma empresa.\n\nPara um dado mês voce ira precisar registrar os lucros dessa empresa. E a situacao desse mês foi:\n\n* 5 itens vendidos, de valor R$ 99.91 cada\n* 3 equipamentos comprados, de valor R$ 110.10 cada\n\n**a.** Escreva um código python que apresente os ganhos e despesas desse mês.\n\n**b.** Faça essa mesma operação em uma calculadora, qual o resultado?\n\n**nota**: Exemplo tirado [deste artigo da Alura](https://www.alura.com.br/artigos/precisao-numeros-decimais-python), vale conferir para entender o que esta acontecendo :)",
   "metadata": {
    "tags": [],
    "cell_id": "00009-75c779c6-8ccd-42b2-85dd-bb6df8dbeca2",
    "deepnote_cell_type": "markdown"
   }
  },
  {
   "cell_type": "code",
   "source": "receita=5*99.91\ncusto=3*110.10\n\nprint('A receita total do mês é:', receita)\nprint('Os custos totais do mês são:', custo)\n\ncalculadora=\"\"\"Na calculadora, como há a restrição de duas casas depois da vírgula, o resultado é diferente.\nSe restringir o número de casas das variáveis acima o resultado será o mesmo\"\"\"\n\nprint(calculadora)\n\nprint('A receita total do mês é %.2f' %receita)\nprint('Os custos totais do mês são %.2f:' %custo)\n\n",
   "metadata": {
    "tags": [],
    "cell_id": "00021-014bcd06-4af9-44dd-a588-5b0832b28c8a",
    "deepnote_to_be_reexecuted": false,
    "source_hash": "8be4a899",
    "execution_start": 1634173748017,
    "execution_millis": 6,
    "deepnote_cell_type": "code"
   },
   "outputs": [
    {
     "name": "stdout",
     "text": "A receita total do mês é: 499.54999999999995\nOs custos totais do mês são: 330.29999999999995\nNa calculadora, como há a restrição de duas casas depois da vírgula, o resultado é diferente.\nSe restringir o número de casas das variáveis acima o resultado será o mesmo\nA receita total do mês é 499.55\nOs custos totais do mês são 330.30:\n",
     "output_type": "stream"
    }
   ],
   "execution_count": null
  },
  {
   "cell_type": "markdown",
   "source": "## Exercício 11\nCorriga o código abaixo para que ele funcione\nO resultado esperado é o valor número da soma\n",
   "metadata": {
    "tags": [],
    "cell_id": "00012-21bc2414-3bef-495d-af3c-fd6140d20218",
    "deepnote_cell_type": "markdown"
   }
  },
  {
   "cell_type": "code",
   "metadata": {
    "tags": [],
    "cell_id": "00013-360b548a-cc61-4b69-8753-7b9c50968ca4",
    "deepnote_to_be_reexecuted": false,
    "source_hash": "f8f629e9",
    "execution_start": 1634173793499,
    "execution_millis": 4,
    "deepnote_cell_type": "code"
   },
   "source": "\na = 10\nb = 20\nsoma = a + b\nprint(\"o resultado da soma é\",soma)",
   "outputs": [
    {
     "name": "stdout",
     "text": "o resultado da soma é 30\n",
     "output_type": "stream"
    }
   ],
   "execution_count": null
  },
  {
   "cell_type": "markdown",
   "source": "## Exercício 12\nCorriga o código abaixo para que ele funcione O resultado esperado é o valor número da soma",
   "metadata": {
    "tags": [],
    "cell_id": "00014-877f277f-a617-43ef-813c-80c029daab13",
    "deepnote_cell_type": "markdown"
   }
  },
  {
   "cell_type": "code",
   "metadata": {
    "tags": [],
    "cell_id": "00015-d5650037-0e22-40b5-adee-8f94a5b7f9bf",
    "deepnote_to_be_reexecuted": false,
    "source_hash": "29aead8d",
    "execution_start": 1634173855474,
    "execution_millis": 11,
    "deepnote_cell_type": "code"
   },
   "source": "var1 = 10\nvar2 = 20\nsoma = var1 + var2\nprint('o resulado da soma é',soma)",
   "outputs": [
    {
     "name": "stdout",
     "text": "o resulado da soma é 30\n",
     "output_type": "stream"
    }
   ],
   "execution_count": null
  },
  {
   "cell_type": "markdown",
   "source": "## Exercício 13\nCorriga o código abaixo para que ele funcione. O resultado esperado é que o programa retorne a soma dos números informados pelo usuário.",
   "metadata": {
    "tags": [],
    "cell_id": "00016-da1bdb62-a178-46ca-ae6c-cbf860f356c7",
    "deepnote_cell_type": "markdown"
   }
  },
  {
   "cell_type": "code",
   "metadata": {
    "tags": [],
    "cell_id": "00017-2d40ae23-68b1-481b-91c8-eab42cc1c8bc",
    "deepnote_to_be_reexecuted": false,
    "source_hash": "5c47bb67",
    "execution_start": 1634174035154,
    "execution_millis": 5270,
    "deepnote_cell_type": "code"
   },
   "source": "a = int(input('Informe um valor para a variável a'))\nb = int(input('Infomre um valor para a variável b'))\nsoma = a + b\nprint('O resultado da soma das variáveis a e b é:', soma)",
   "outputs": [
    {
     "name": "stdout",
     "text": "O resultado da soma das variáveis a e b é: 15\n",
     "output_type": "stream"
    }
   ],
   "execution_count": null
  },
  {
   "cell_type": "markdown",
   "source": "## Exercício 14\nCorriga o código abaixo para que ele funcione. O resultado esperado é que o programa retorne o novo salario com o aumento desejado.",
   "metadata": {
    "tags": [],
    "cell_id": "00018-3a6c2a9d-fa07-4f49-affa-c3780d2fb33e",
    "deepnote_cell_type": "markdown"
   }
  },
  {
   "cell_type": "code",
   "metadata": {
    "tags": [],
    "cell_id": "00019-02d92503-6c8d-4f17-b09c-703130be82f0",
    "deepnote_to_be_reexecuted": false,
    "source_hash": "91ed1d30",
    "execution_start": 1634174139850,
    "execution_millis": 5439,
    "deepnote_cell_type": "code"
   },
   "source": "salario_atual=float(input('Insira o seu Salário atual: '))\naumento_salarial=float(input('Insira o percentual de Aumento desejado: '))\n\nnovo_salario=(salario_atual*(1+(aumento_salarial/100)))\nprint('O Salário Reajustado é R$ %.2f'%novo_salario)",
   "outputs": [
    {
     "name": "stdout",
     "text": "O Salário Reajustado é R$ 1100.00\n",
     "output_type": "stream"
    }
   ],
   "execution_count": null
  },
  {
   "cell_type": "markdown",
   "source": "## Bônus\n\nAlguns desses exercicios foram baseados em conteudo externos muito bons. Caso queira se aprofundar a leitura e altamente recomendada:\n\n* [Introdução ao Python/Tipos e operadores](https://pt.wikiversity.org/wiki/Introdu%C3%A7%C3%A3o_ao_Python/Tipos_e_operadores) - Wikiversidade\n\n* [Python para Zumbis - Declarando nossas primeiras variáveis](https://www.youtube.com/watch?v=qHx8SRYqW2E&list=PLUukMN0DTKCtbzhbYe2jdF4cr8MOWClXc&index=4) - Youtube\n\n* [Python: Trabalhando com precisão em números decimais](https://www.alura.com.br/artigos/precisao-numeros-decimais-python) - Alura\n\n* [Python Variables](https://www.w3schools.com/python/python_variables.asp) - W3 Schools (em inglês)\n",
   "metadata": {
    "tags": [],
    "cell_id": "00011-f2f143f3-336e-42f9-9e94-a48e17839a40",
    "deepnote_cell_type": "markdown"
   }
  },
  {
   "cell_type": "markdown",
   "source": "<a style='text-decoration:none;line-height:16px;display:flex;color:#5B5B62;padding:10px;justify-content:end;' href='https://deepnote.com?utm_source=created-in-deepnote-cell&projectId=200de11b-a298-4cdd-9ed4-3c7283d2e057' target=\"_blank\">\n<img alt='Created in deepnote.com' style='display:inline;max-height:16px;margin:0px;margin-right:7.5px;' src='data:image/svg+xml;base64,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' > </img>\nCreated in <span style='font-weight:600;margin-left:4px;'>Deepnote</span></a>",
   "metadata": {
    "tags": [],
    "created_in_deepnote_cell": true,
    "deepnote_cell_type": "markdown"
   }
  }
 ],
 "nbformat": 4,
 "nbformat_minor": 2,
 "metadata": {
  "orig_nbformat": 2,
  "deepnote": {
   "is_reactive": false
  },
  "deepnote_notebook_id": "21c14ad4-827e-4dd9-9274-66711107d2b7",
  "deepnote_execution_queue": []
 }
}