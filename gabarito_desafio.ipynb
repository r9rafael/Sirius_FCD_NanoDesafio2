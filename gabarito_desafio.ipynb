{
 "cells": [
  {
   "cell_type": "markdown",
   "source": "<div>\n    <p style=\"float: right;\"><img src=\"https://media.swipepages.com/2021/2/sirius-logo-principal-tag-1-300.png\" height=\"40px\"border=\"1px\"></p>\n    \n</div>\n\n# Gabarito\nTodas as respostas já estarão disponíveis abaixo mas antes de usa-las, tente resolver os exercícios\n",
   "metadata": {
    "tags": [],
    "cell_id": "00000-117e364c-866e-42a5-8235-f9b8fc1d33e4",
    "deepnote_cell_type": "markdown"
   }
  },
  {
   "cell_type": "markdown",
   "source": "",
   "metadata": {
    "tags": [],
    "cell_id": "00000-12690ca5-d73d-492b-a0a4-1242753f8f6b",
    "deepnote_cell_type": "markdown"
   }
  },
  {
   "cell_type": "code",
   "metadata": {
    "tags": [],
    "cell_id": "00000-14759970-297e-4582-898b-7f87f8d1eb73",
    "deepnote_to_be_reexecuted": false,
    "source_hash": "efa65bda",
    "execution_start": 1632010549739,
    "execution_millis": 29909,
    "deepnote_cell_type": "code"
   },
   "source": "# Desafio 1\n\n#Lendo os valores do usuário\n#v_couro é o valor do couro para fabricação unitária\nv_couro = float(input('Digite o valor do COURO: '))\n\n#v_solado é o valor do solado para fabricação unitária\nv_solado = float(input('Digite o valor do SOLADO: '))\n\n#v_cordoes é o valor dos cordões e ilhoses para fabricação unitária\nv_cordoes = float(input('Digite o valor do CORDÕES e ILHOSES: '))\n\n#v_insumos é o valor dos insumos diversos para fabricação unitária\nv_insumos = float(input('Digite o valor do INSUMOS: '))\n\n#v_MaoObra é o valor de mão de obra para fabricação unitária\nv_MaoObra = float(input('Digite o valor do Mão de Obra: '))\n\n#v_marketing é o valor de Marketing e Propaganda dividido pela produção\nv_marketing = float(input('Digite o valor do Marketing: '))\n\n#v_vendas é o valor do custo de vendas dividido pela produção\nv_vendas = float(input('Digite o valor dos custos de Venda: '))",
   "execution_count": null,
   "outputs": []
  },
  {
   "cell_type": "code",
   "metadata": {
    "tags": [],
    "cell_id": "00002-73c1ed37-722b-4cca-858b-d31b59e35b76",
    "deepnote_to_be_reexecuted": false,
    "source_hash": "d8489e97",
    "execution_start": 1632010582722,
    "execution_millis": 7,
    "deepnote_cell_type": "code"
   },
   "source": "#Cálculo do preço de custo\nPreco_Custo = (v_couro*0.30) + (v_solado*0.20) + (v_cordoes*0.05) + (v_insumos*0.05) + (v_MaoObra*0.20) + (v_marketing*0.10) + (v_vendas*0.10)\nprint(\"O preço de custo unitário deste modelo de sapato é: \", Preco_Custo)",
   "execution_count": null,
   "outputs": [
    {
     "name": "stdout",
     "text": "O preço de custo unitário deste modelo de sapato é:  76.5\n",
     "output_type": "stream"
    }
   ]
  },
  {
   "cell_type": "code",
   "metadata": {
    "tags": [],
    "cell_id": "00003-fb4aa4a2-c944-4cd8-94a2-226f90bedb4a",
    "deepnote_to_be_reexecuted": false,
    "source_hash": "649af440",
    "execution_start": 1632010608470,
    "execution_millis": 9,
    "deepnote_cell_type": "code"
   },
   "source": "#Calculando o Preço Final\n\n#Calculo do preço adicionando lucro do fabricante\nPreco_Lucro = Preco_Custo * 1.30\n\n#Calculo do preço adicionando perdas de capital\nPreco_Perdas = Preco_Lucro * 1.15\n\n#Calculo do preço adicionando impostos federais\nPreco_IPI_COFINS = Preco_Perdas * 1.15\n\n#Calculo do preço adicionando margem de vendas\nPreco_Vendas = Preco_IPI_COFINS * 1.25\n\n#Calculo do preço adicionando impostos estaduais e municipais\nPreco_ICMS_INSS = Preco_Vendas * 1.30\n\n#Preco Final, acrescido de todos os impostos e margens de lucro\nPreco_Final = Preco_ICMS_INSS\nprint(\"O preço final ao consumidor deste modelo de sapato é: \", Preco_Final )",
   "execution_count": null,
   "outputs": [
    {
     "name": "stdout",
     "text": "O preço final ao consumidor deste modelo de sapato é:  213.72426562499996\n",
     "output_type": "stream"
    }
   ]
  },
  {
   "cell_type": "markdown",
   "source": "<a style='text-decoration:none;line-height:16px;display:flex;color:#5B5B62;padding:10px;justify-content:end;' href='https://deepnote.com?utm_source=created-in-deepnote-cell&projectId=200de11b-a298-4cdd-9ed4-3c7283d2e057' target=\"_blank\">\n<img alt='Created in deepnote.com' style='display:inline;max-height:16px;margin:0px;margin-right:7.5px;' src='data:image/svg+xml;base64,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' > </img>\nCreated in <span style='font-weight:600;margin-left:4px;'>Deepnote</span></a>",
   "metadata": {
    "tags": [],
    "created_in_deepnote_cell": true,
    "deepnote_cell_type": "markdown"
   }
  }
 ],
 "nbformat": 4,
 "nbformat_minor": 2,
 "metadata": {
  "orig_nbformat": 2,
  "deepnote": {
   "is_reactive": false
  },
  "deepnote_notebook_id": "9c5d0029-ea5f-4971-836d-85806e6cf67e",
  "deepnote_execution_queue": []
 }
}