{
 "cells": [
  {
   "cell_type": "markdown",
   "source": "<div>\n    <p style=\"float: right;\"><img src=\"https://media.swipepages.com/2021/2/sirius-logo-principal-tag-1-300.png\" height=\"80px\"border=\"1px\"></p>\n    \n</div>\n<h1>Nano Desafio 2 </h1>\n<h2> Desafios </h2>\n\nAluno: Rafael Rocha\n\nData: 13/10/21",
   "metadata": {
    "tags": [],
    "cell_id": "00000-e8ac9e2f-d35b-4610-b8ce-bb66388448af",
    "deepnote_cell_type": "markdown"
   }
  },
  {
   "cell_type": "markdown",
   "source": "# Desafio 1\n\n\n![Calculo](/work/images/preco.jpg)\n",
   "metadata": {
    "tags": [],
    "cell_id": "00001-1fcaf13b-4d79-4c96-806b-d1c948f8a35b",
    "deepnote_cell_type": "markdown"
   }
  },
  {
   "cell_type": "markdown",
   "source": "# Pergunta\nQual o preço final ao consumidor deste modelo de sapato? <br>\nPara envio do seu resultado final, considere os seguites valores abaixo de referência mas lembre-se que o seu programa deve ser capaz de calcular quaisquer que sejam os valores! <br>\nCouro: 140 <br>\nSolado: 80 <br>\nCordões e Ilhoses: 40 <br>\nInsumos: 30 <br>\nMão de Obra: 50 <br>\nMarketing: 30 <br>\nCustos de Venda: 20 <br>",
   "metadata": {
    "tags": [],
    "cell_id": "00002-d9beadac-64fe-4b1f-aaf7-020a6b348857",
    "deepnote_cell_type": "markdown"
   }
  },
  {
   "cell_type": "code",
   "metadata": {
    "tags": [],
    "cell_id": "00003-195b7de9-e30c-4073-9624-26c7c37317d3",
    "deepnote_to_be_reexecuted": false,
    "source_hash": "ec9ffc2b",
    "execution_start": 1634169494280,
    "execution_millis": 50015,
    "deepnote_cell_type": "code"
   },
   "source": "custo_couro=float(input('Qual o preço do couro utilizado?'))\ncusto_solado=float(input('Qual o custo do solado utilizado?'))\ncusto_cordoes_ilhoes=float(input('Qual o custo dos cordões e ilhões utilizados?'))\ncusto_insumos=float(input('Qual o custo dos demais insumos utilizados?'))\ncusto_mdo=float(input('Qual o custo da mão de obra utilizada?'))\ncusto_mkt=float(input('Qual o custo com marketing?'))\ncusto_venda=float(input('Qual o custo com vendas?'))\n\nperc_couro_custo_total=0.3\nperc_solado_custo_total=0.2\nperc_cordoes_ilhoes_custo_total=0.05\nperc_insumos_custo_total=0.05\nperc_mdo_custo_total=0.2\nperc_mkt_custo_total=0.1\nperc_venda_custo_total=0.1\n\npreco_custo=(custo_couro*perc_couro_custo_total)+(custo_solado*perc_solado_custo_total)+(custo_cordoes_ilhoes*perc_cordoes_ilhoes_custo_total)+(custo_insumos*perc_insumos_custo_total)+(custo_mdo*perc_mdo_custo_total)+(custo_mkt*perc_mkt_custo_total)+(custo_venda*perc_venda_custo_total)\n\nprint('R$ %.2f de preço de custo'%preco_custo )\n\nlucro_fabricante=1.3\nperdas_capital=1.15\nimpostos_federais=1.15\nmargem_vendas=1.25\nimpostos_estaduais_municipais=1.3\n\npreco_com_lucro=(preco_custo*lucro_fabricante)\npreco_com_perdas=preco_com_lucro*perdas_capital\npreco_impostos_fed=preco_com_perdas*impostos_federais\npreco_margem_vendas=preco_impostos_fed*margem_vendas\npreco_impostos_estad_municip=preco_margem_vendas*impostos_estaduais_municipais\npreco_final=preco_impostos_estad_municip\n\nprint('O preço final de venda é de R$ %.2f'%preco_final)\n",
   "execution_count": null,
   "outputs": [
    {
     "name": "stdout",
     "text": "R$ 76.50 de preço de custo\nO preço final de venda é de R$ 213.72\n",
     "output_type": "stream"
    }
   ]
  },
  {
   "cell_type": "markdown",
   "source": "",
   "metadata": {
    "tags": [],
    "cell_id": "00003-e58e431a-dacd-4002-bfc0-7963d5fc5945",
    "deepnote_cell_type": "markdown"
   }
  },
  {
   "cell_type": "markdown",
   "source": "<a style='text-decoration:none;line-height:16px;display:flex;color:#5B5B62;padding:10px;justify-content:end;' href='https://deepnote.com?utm_source=created-in-deepnote-cell&projectId=200de11b-a298-4cdd-9ed4-3c7283d2e057' target=\"_blank\">\n<img alt='Created in deepnote.com' style='display:inline;max-height:16px;margin:0px;margin-right:7.5px;' src='data:image/svg+xml;base64,PD94bWwgdmVyc2lvbj0iMS4wIiBlbmNvZGluZz0iVVRGLTgiPz4KPHN2ZyB3aWR0aD0iODBweCIgaGVpZ2h0PSI4MHB4IiB2aWV3Qm94PSIwIDAgODAgODAiIHZlcnNpb249IjEuMSIgeG1sbnM9Imh0dHA6Ly93d3cudzMub3JnLzIwMDAvc3ZnIiB4bWxuczp4bGluaz0iaHR0cDovL3d3dy53My5vcmcvMTk5OS94bGluayI+CiAgICA8IS0tIEdlbmVyYXRvcjogU2tldGNoIDU0LjEgKDc2NDkwKSAtIGh0dHBzOi8vc2tldGNoYXBwLmNvbSAtLT4KICAgIDx0aXRsZT5Hcm91cCAzPC90aXRsZT4KICAgIDxkZXNjPkNyZWF0ZWQgd2l0aCBTa2V0Y2guPC9kZXNjPgogICAgPGcgaWQ9IkxhbmRpbmciIHN0cm9rZT0ibm9uZSIgc3Ryb2tlLXdpZHRoPSIxIiBmaWxsPSJub25lIiBmaWxsLXJ1bGU9ImV2ZW5vZGQiPgogICAgICAgIDxnIGlkPSJBcnRib2FyZCIgdHJhbnNmb3JtPSJ0cmFuc2xhdGUoLTEyMzUuMDAwMDAwLCAtNzkuMDAwMDAwKSI+CiAgICAgICAgICAgIDxnIGlkPSJHcm91cC0zIiB0cmFuc2Zvcm09InRyYW5zbGF0ZSgxMjM1LjAwMDAwMCwgNzkuMDAwMDAwKSI+CiAgICAgICAgICAgICAgICA8cG9seWdvbiBpZD0iUGF0aC0yMCIgZmlsbD0iIzAyNjVCNCIgcG9pbnRzPSIyLjM3NjIzNzYyIDgwIDM4LjA0NzY2NjcgODAgNTcuODIxNzgyMiA3My44MDU3NTkyIDU3LjgyMTc4MjIgMzIuNzU5MjczOSAzOS4xNDAyMjc4IDMxLjY4MzE2ODMiPjwvcG9seWdvbj4KICAgICAgICAgICAgICAgIDxwYXRoIGQ9Ik0zNS4wMDc3MTgsODAgQzQyLjkwNjIwMDcsNzYuNDU0OTM1OCA0Ny41NjQ5MTY3LDcxLjU0MjI2NzEgNDguOTgzODY2LDY1LjI2MTk5MzkgQzUxLjExMjI4OTksNTUuODQxNTg0MiA0MS42NzcxNzk1LDQ5LjIxMjIyODQgMjUuNjIzOTg0Niw0OS4yMTIyMjg0IEMyNS40ODQ5Mjg5LDQ5LjEyNjg0NDggMjkuODI2MTI5Niw0My4yODM4MjQ4IDM4LjY0NzU4NjksMzEuNjgzMTY4MyBMNzIuODcxMjg3MSwzMi41NTQ0MjUgTDY1LjI4MDk3Myw2Ny42NzYzNDIxIEw1MS4xMTIyODk5LDc3LjM3NjE0NCBMMzUuMDA3NzE4LDgwIFoiIGlkPSJQYXRoLTIyIiBmaWxsPSIjMDAyODY4Ij48L3BhdGg+CiAgICAgICAgICAgICAgICA8cGF0aCBkPSJNMCwzNy43MzA0NDA1IEwyNy4xMTQ1MzcsMC4yNTcxMTE0MzYgQzYyLjM3MTUxMjMsLTEuOTkwNzE3MDEgODAsMTAuNTAwMzkyNyA4MCwzNy43MzA0NDA1IEM4MCw2NC45NjA0ODgyIDY0Ljc3NjUwMzgsNzkuMDUwMzQxNCAzNC4zMjk1MTEzLDgwIEM0Ny4wNTUzNDg5LDc3LjU2NzA4MDggNTMuNDE4MjY3Nyw3MC4zMTM2MTAzIDUzLjQxODI2NzcsNTguMjM5NTg4NSBDNTMuNDE4MjY3Nyw0MC4xMjg1NTU3IDM2LjMwMzk1NDQsMzcuNzMwNDQwNSAyNS4yMjc0MTcsMzcuNzMwNDQwNSBDMTcuODQzMDU4NiwzNy43MzA0NDA1IDkuNDMzOTE5NjYsMzcuNzMwNDQwNSAwLDM3LjczMDQ0MDUgWiIgaWQ9IlBhdGgtMTkiIGZpbGw9IiMzNzkzRUYiPjwvcGF0aD4KICAgICAgICAgICAgPC9nPgogICAgICAgIDwvZz4KICAgIDwvZz4KPC9zdmc+' > </img>\nCreated in <span style='font-weight:600;margin-left:4px;'>Deepnote</span></a>",
   "metadata": {
    "tags": [],
    "created_in_deepnote_cell": true,
    "deepnote_cell_type": "markdown"
   }
  }
 ],
 "nbformat": 4,
 "nbformat_minor": 2,
 "metadata": {
  "orig_nbformat": 2,
  "deepnote": {
   "is_reactive": false
  },
  "deepnote_notebook_id": "f324b11a-158a-4746-b2df-a66e34c34b29",
  "deepnote_execution_queue": []
 }
}